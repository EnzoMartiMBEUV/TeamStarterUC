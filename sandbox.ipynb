{
 "cells": [
  {
   "cell_type": "markdown",
   "metadata": {},
   "source": [
    "# Sandbox & premiers traitements sur le fichier \"expenses\""
   ]
  },
  {
   "cell_type": "markdown",
   "metadata": {},
   "source": [
    "## Chargement du fichier"
   ]
  },
  {
   "cell_type": "code",
   "execution_count": 1,
   "metadata": {
    "ExecuteTime": {
     "end_time": "2023-02-18T15:12:49.433883Z",
     "start_time": "2023-02-18T15:12:47.146701Z"
    }
   },
   "outputs": [],
   "source": [
    "import pandas as pd\n",
    "\n",
    "df = pd.read_excel('1_Travel expanses.xlsx', dtype='object')"
   ]
  },
  {
   "cell_type": "markdown",
   "metadata": {},
   "source": [
    "## Traitements"
   ]
  },
  {
   "cell_type": "markdown",
   "metadata": {},
   "source": [
    "### Exploitation du pattern trouvé dans \"Vendor Comment\""
   ]
  },
  {
   "cell_type": "code",
   "execution_count": 2,
   "metadata": {
    "ExecuteTime": {
     "end_time": "2023-02-18T15:12:49.463197Z",
     "start_time": "2023-02-18T15:12:49.435941Z"
    }
   },
   "outputs": [],
   "source": [
    "df.loc[df['Vendor Comment'].str.contains(':',regex=False, na=False), 'Contains State Code'] = 'exist'\n",
    "df.loc[~(df['Vendor Comment'].str.contains(':',regex=False, na=False)), 'Contains State Code'] = 'not exist'"
   ]
  },
  {
   "cell_type": "markdown",
   "metadata": {},
   "source": [
    "### Modifications de la date sur les quelques lignes le nécessitant"
   ]
  },
  {
   "cell_type": "code",
   "execution_count": 3,
   "metadata": {
    "ExecuteTime": {
     "end_time": "2023-02-18T15:12:49.490532Z",
     "start_time": "2023-02-18T15:12:49.465748Z"
    }
   },
   "outputs": [],
   "source": [
    "df.loc[9337, 'GL Date'] = '4/11/2015'\n",
    "\n",
    "df.loc[11093, 'GL Date'] = '3/04/15'\n",
    "df.loc[11094, 'GL Date'] = '11/12/15'\n",
    "df.loc[11095, 'GL Date'] = '4/20/15'\n",
    "\n",
    "df['GL Date'] = df['GL Date'].astype(\"Datetime64\")"
   ]
  },
  {
   "cell_type": "markdown",
   "metadata": {},
   "source": [
    "### Ajout de nouvelles dimensions"
   ]
  },
  {
   "cell_type": "code",
   "execution_count": 4,
   "metadata": {
    "ExecuteTime": {
     "end_time": "2023-02-18T15:12:49.525868Z",
     "start_time": "2023-02-18T15:12:49.492729Z"
    }
   },
   "outputs": [],
   "source": [
    "df.loc[df['Contains State Code'] == 'exist', 'State Code'] = df['Vendor Comment'].str.extract(r':([^;]*),', expand=False)\n",
    "\n",
    "df['Quarter'] = pd.to_datetime(df['GL Date']).dt.quarter\n",
    "\n",
    "df['Day Name'] = df['GL Date'].dt.day_name()"
   ]
  },
  {
   "cell_type": "markdown",
   "metadata": {},
   "source": [
    "### Préparations finales avant export"
   ]
  },
  {
   "cell_type": "code",
   "execution_count": 5,
   "metadata": {
    "ExecuteTime": {
     "end_time": "2023-02-18T15:12:49.551791Z",
     "start_time": "2023-02-18T15:12:49.527331Z"
    }
   },
   "outputs": [],
   "source": [
    "df = df.fillna('')\n",
    "\n",
    "cols = ['GL Date', \n",
    "        'Expense Category', \n",
    "        'Employee Name', \n",
    "        'Vendor Name',\n",
    "        'Vendor Comment', \n",
    "        'Activity .', \n",
    "        'Activity Short Description',\n",
    "        'Expense Description (Flex field)', \n",
    "        'Ferc Account', \n",
    "        'Amount - gross',\n",
    "        'Amount - OTP share', \n",
    "        'Amount - MN share', \n",
    "        'Contains State Code',\n",
    "        'State Code', \n",
    "        'Quarter',\n",
    "        'Day Name']\n",
    "\n",
    "new_cols = ['Date',\n",
    "            'ExpenseCategory',\n",
    "            'EmployeeName',\n",
    "            'VendorName',\n",
    "            'VendorComment',\n",
    "            'ActivityCode',\n",
    "            'ActivityLabel',\n",
    "            'ExpenseDescription',\n",
    "            'FercAccount',\n",
    "            'AmountGross',\n",
    "            'AmountOTP',\n",
    "            'AmountMN',\n",
    "            'ContainsStateCode',\n",
    "            'StateCode',\n",
    "            'Quarter',\n",
    "            'DayName']\n",
    "\n",
    "df.columns = new_cols"
   ]
  },
  {
   "cell_type": "code",
   "execution_count": 6,
   "metadata": {
    "ExecuteTime": {
     "end_time": "2023-02-18T15:12:49.730093Z",
     "start_time": "2023-02-18T15:12:49.553591Z"
    }
   },
   "outputs": [],
   "source": [
    "df.to_csv('expenses.csv', index=False)"
   ]
  }
 ],
 "metadata": {
  "kernelspec": {
   "display_name": "Python 3",
   "language": "python",
   "name": "python3"
  },
  "language_info": {
   "codemirror_mode": {
    "name": "ipython",
    "version": 3
   },
   "file_extension": ".py",
   "mimetype": "text/x-python",
   "name": "python",
   "nbconvert_exporter": "python",
   "pygments_lexer": "ipython3",
   "version": "3.7.4"
  },
  "toc": {
   "base_numbering": 1,
   "nav_menu": {},
   "number_sections": true,
   "sideBar": true,
   "skip_h1_title": false,
   "title_cell": "Table of Contents",
   "title_sidebar": "Contents",
   "toc_cell": false,
   "toc_position": {},
   "toc_section_display": true,
   "toc_window_display": false
  },
  "varInspector": {
   "cols": {
    "lenName": 16,
    "lenType": 16,
    "lenVar": 40
   },
   "kernels_config": {
    "python": {
     "delete_cmd_postfix": "",
     "delete_cmd_prefix": "del ",
     "library": "var_list.py",
     "varRefreshCmd": "print(var_dic_list())"
    },
    "r": {
     "delete_cmd_postfix": ") ",
     "delete_cmd_prefix": "rm(",
     "library": "var_list.r",
     "varRefreshCmd": "cat(var_dic_list()) "
    }
   },
   "types_to_exclude": [
    "module",
    "function",
    "builtin_function_or_method",
    "instance",
    "_Feature"
   ],
   "window_display": false
  }
 },
 "nbformat": 4,
 "nbformat_minor": 2
}
